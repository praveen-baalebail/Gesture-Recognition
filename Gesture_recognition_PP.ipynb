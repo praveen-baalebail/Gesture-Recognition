{
 "cells": [
  {
   "cell_type": "markdown",
   "metadata": {},
   "source": [
    "# Gesture Recognition\n",
    "In this group project, we are going to build a 3D Conv model and CNN+RNN model that will be able to predict the 5 gestures correctly. "
   ]
  },
  {
   "cell_type": "code",
   "execution_count": 1,
   "metadata": {},
   "outputs": [
    {
     "name": "stderr",
     "output_type": "stream",
     "text": [
      "Using TensorFlow backend.\n"
     ]
    }
   ],
   "source": [
    "#Importing required libraries\n",
    "\n",
    "import numpy as np\n",
    "import os\n",
    "from scipy.misc import imresize,imread\n",
    "import datetime\n",
    "import matplotlib.pyplot as plt\n",
    "import random as rn\n",
    "import tensorflow as tf\n",
    "from keras import backend as K\n",
    "import cv2"
   ]
  },
  {
   "cell_type": "markdown",
   "metadata": {},
   "source": [
    "We set the random seed so that the results don't vary drastically."
   ]
  },
  {
   "cell_type": "code",
   "execution_count": 2,
   "metadata": {},
   "outputs": [],
   "source": [
    "np.random.seed(30)\n",
    "rn.seed(30)\n",
    "tf.set_random_seed(30)"
   ]
  },
  {
   "cell_type": "markdown",
   "metadata": {},
   "source": [
    "In this block, you read the folder names for training and validation. You also set the `batch_size` here. Note that you set the batch size in such a way that you are able to use the GPU in full capacity. You keep increasing the batch size until the machine throws an error."
   ]
  },
  {
   "cell_type": "code",
   "execution_count": 3,
   "metadata": {},
   "outputs": [],
   "source": [
    "train_doc = np.random.permutation(open('Project_data/train.csv').readlines())\n",
    "val_doc = np.random.permutation(open('Project_data/val.csv').readlines())\n",
    "#train_doc = np.random.permutation(open('/notebooks/storage/Final_data/Collated_training/train.csv').readlines())\n",
    "#val_doc = np.random.permutation(open('/notebooks/storage/Final_data/Collated_training/val.csv').readlines())\n",
    "\n",
    "batch_size = 32 #experiment with the batch size"
   ]
  },
  {
   "cell_type": "code",
   "execution_count": 4,
   "metadata": {},
   "outputs": [],
   "source": [
    "# Parameters initialization\n",
    "nb_rows = 120   # X dimension of the image\n",
    "nb_cols = 120   # Y dimesnion of the image\n",
    "total_frames = 30\n",
    "nb_frames = 30  # lenght of the video frames\n",
    "nb_channel = 3 # numbe rof channels in images 3 for color(RGB) and 1 for Gray"
   ]
  },
  {
   "cell_type": "code",
   "execution_count": 5,
   "metadata": {},
   "outputs": [],
   "source": [
    "#Function to normalize the image\n",
    "def normalize_img(img):\n",
    "    normalized_img= (img - np.min(img))/(np.max(img)- np.min(img))\n",
    "    return normalized_img\n",
    "\n",
    "#function to Crop image\n",
    "def crop_img(img):\n",
    "    if img.shape[0] != img.shape[1]:\n",
    "        img=img[0:120,10:150]\n",
    "    return img\n",
    "\n",
    "#Function to plot loss and accuracy of a model\n",
    "def plot(history):\n",
    "    fig, axes = plt.subplots(nrows=1, ncols=2, figsize=(15,4))\n",
    "    axes[0].plot(history.history['loss'])   \n",
    "    axes[0].plot(history.history['val_loss'])\n",
    "    axes[0].legend(['loss','val_loss'])\n",
    "\n",
    "    axes[1].plot(history.history['categorical_accuracy'])   \n",
    "    axes[1].plot(history.history['val_categorical_accuracy'])\n",
    "    axes[1].legend(['categorical_accuracy','val_categorical_accuracy'])"
   ]
  },
  {
   "cell_type": "markdown",
   "metadata": {},
   "source": [
    "## Generator\n",
    "This is one of the most important part of the code. The overall structure of the generator has been given. In the generator, you are going to preprocess the images as you have images of 2 different dimensions as well as create a batch of video frames. You have to experiment with `img_idx`, `y`,`z` and normalization such that you get high accuracy."
   ]
  },
  {
   "cell_type": "code",
   "execution_count": 6,
   "metadata": {},
   "outputs": [],
   "source": [
    "#perform image operations on a specific batch.\n",
    "def gen_image_batch(source_path, folder_list, batch_size,t,batch,img_idx,augment):\n",
    "    \n",
    "    batch_data = np.zeros((batch_size,nb_frames, nb_rows, nb_cols,3)) # x is the number of images you use for each video, (y,z) is the final size of the input images and 3 is the number of channels RGB\n",
    "    batch_labels = np.zeros((batch_size,5)) # batch_labels is the one hot representation of the output\n",
    "    \n",
    "    if (augment): batch_data_aug = np.zeros((batch_size,nb_frames, nb_rows, nb_cols,3))\n",
    "        \n",
    "    for folder in range(batch_size): # iterate over the batch_size\n",
    "        imgs = os.listdir(source_path+'/'+ t[folder + (batch*batch_size)].split(';')[0]) # read all the images in the folder\n",
    "        for idx,item in enumerate(img_idx): #  Iterate iver the frames/images of a folder to read them in\n",
    "            image = cv2.imread(source_path+'/'+ t[folder + (batch*batch_size)].strip().split(';')[0]+'/'+imgs[item]).astype(np.float32)\n",
    "            image = cv2.cvtColor(image, cv2.COLOR_BGR2RGB)\n",
    "            #crop the images and resize them. Note that the images are of 2 different shape \n",
    "            #and the conv3D will throw error if the inputs in a batch have different shapes\n",
    "            \n",
    "            resized_img = imresize(image, (nb_rows,nb_cols))\n",
    "                    \n",
    "            batch_data[folder,idx,:,:,0] = normalize_img(resized_img[:, : , 0]) #normalise and feed in the image\n",
    "            batch_data[folder,idx,:,:,1] = normalize_img(resized_img[:, : , 1])#normalise and feed in the image\n",
    "            batch_data[folder,idx,:,:,2] = normalize_img(resized_img[:, : , 2])#normalise and feed in the image\n",
    "            \n",
    "            if (augment):\n",
    "                    shift = cv2.warpAffine(image, \n",
    "                                             np.float32([[1, 0, np.random.randint(-30,30)],[0, 1, np.random.randint(-30,30)]]), \n",
    "                                            (image.shape[1], image.shape[0]))\n",
    "                    \n",
    "                    gray = cv2.cvtColor(shift,cv2.COLOR_BGR2GRAY)\n",
    "\n",
    "                    x0, y0 = np.argwhere(gray > 0).min(axis=0)\n",
    "                    x1, y1 = np.argwhere(gray > 0).max(axis=0) \n",
    "                    \n",
    "                    crop=shift[x0:x1,y0:y1,:]\n",
    "                    \n",
    "                    image_resized=imresize(crop,(nb_rows,nb_cols,3))\n",
    "                    \n",
    "                    batch_data_aug[folder,idx,:,:,0] = normalize_img(resized_img[:, : , 0])\n",
    "                    batch_data_aug[folder,idx,:,:,1] = normalize_img(resized_img[:, : , 1])\n",
    "                    batch_data_aug[folder,idx,:,:,2] = normalize_img(resized_img[:, : , 2])\n",
    "                    \n",
    "            batch_labels[folder, int(t[folder + (batch*batch_size)].strip().split(';')[2])] = 1\n",
    "            \n",
    "    if (augment):\n",
    "            batch_data=np.concatenate([batch_data,batch_data_aug])\n",
    "            batch_labels=np.concatenate([batch_labels,batch_labels])        \n",
    "    \n",
    "    return batch_data, batch_labels\n",
    "\n"
   ]
  },
  {
   "cell_type": "code",
   "execution_count": 7,
   "metadata": {},
   "outputs": [],
   "source": [
    "def generator(source_path, folder_list, batch_size,augment=False):\n",
    "    print( 'Source path = ', source_path, '; batch size =', batch_size)\n",
    "    img_idx = [x for x in range(0, nb_frames)] #create a list of image numbers you want to use for a particular video\n",
    "    while True:\n",
    "        t = np.random.permutation(folder_list)\n",
    "        num_batches = len(folder_list)//batch_size  # calculate the number of batches\n",
    "        for batch in range(num_batches): # we iterate over the number of batches\n",
    "            yield gen_image_batch(source_path, folder_list, batch_size,t,batch,img_idx,augment) #you yield the batch_data and the batch_labels, remember what does yield do\n",
    "\n",
    "        \n",
    "        # write the code for the remaining data points which are left after full batches\n",
    "        if (len(folder_list) != batch_size*num_batches):\n",
    "            batch_size = len(folder_list) - (batch_size*num_batches)\n",
    "            yield gen_image_batch(source_path, folder_list, batch_size,t,batch,img_idx,augment)"
   ]
  },
  {
   "cell_type": "markdown",
   "metadata": {},
   "source": [
    "Note here that a video is represented above in the generator as (number of images, height, width, number of channels). Take this into consideration while creating the model architecture."
   ]
  },
  {
   "cell_type": "code",
   "execution_count": 8,
   "metadata": {},
   "outputs": [
    {
     "name": "stdout",
     "output_type": "stream",
     "text": [
      "# training sequences = 663\n",
      "# validation sequences = 100\n",
      "# epochs = 10\n"
     ]
    }
   ],
   "source": [
    "curr_dt_time = datetime.datetime.now()\n",
    "train_path = 'Project_data/train'\n",
    "val_path = 'Project_data/val'\n",
    "\n",
    "num_train_sequences = len(train_doc)\n",
    "print('# training sequences =', num_train_sequences)\n",
    "\n",
    "num_val_sequences = len(val_doc)\n",
    "print('# validation sequences =', num_val_sequences)\n",
    "\n",
    "num_epochs = 10 # choose the number of epochs\n",
    "print ('# epochs =', num_epochs)"
   ]
  },
  {
   "cell_type": "markdown",
   "metadata": {},
   "source": [
    "## Model\n",
    "Here you make the model using different functionalities that Keras provides. Remember to use `Conv3D` and `MaxPooling3D` and not `Conv2D` and `Maxpooling2D` for a 3D convolution model. You would want to use `TimeDistributed` while building a Conv2D + RNN model. Also remember that the last layer is the softmax. Design the network in such a way that the model is able to give good accuracy on the least number of parameters so that it can fit in the memory of the webcam."
   ]
  },
  {
   "cell_type": "code",
   "execution_count": 9,
   "metadata": {},
   "outputs": [],
   "source": [
    "from keras.models import Sequential, Model\n",
    "from keras.layers import Dense, GRU, Flatten, TimeDistributed, Flatten, BatchNormalization, Activation, Dropout\n",
    "from keras.layers.convolutional import Conv3D, MaxPooling3D,Conv2D, MaxPooling2D\n",
    "\n",
    "from keras.callbacks import ModelCheckpoint, ReduceLROnPlateau\n",
    "from keras import optimizers\n",
    "from keras.optimizers import Adam\n"
   ]
  },
  {
   "cell_type": "markdown",
   "metadata": {},
   "source": [
    "#### 1. Conv2D + RNN(GRU) model"
   ]
  },
  {
   "cell_type": "code",
   "execution_count": 21,
   "metadata": {},
   "outputs": [
    {
     "name": "stdout",
     "output_type": "stream",
     "text": [
      "_________________________________________________________________\n",
      "Layer (type)                 Output Shape              Param #   \n",
      "=================================================================\n",
      "time_distributed_37 (TimeDis (None, 30, 45, 45, 16)    448       \n",
      "_________________________________________________________________\n",
      "time_distributed_38 (TimeDis (None, 30, 45, 45, 32)    4640      \n",
      "_________________________________________________________________\n",
      "time_distributed_39 (TimeDis (None, 30, 45, 45, 32)    128       \n",
      "_________________________________________________________________\n",
      "time_distributed_40 (TimeDis (None, 30, 22, 22, 32)    0         \n",
      "_________________________________________________________________\n",
      "time_distributed_41 (TimeDis (None, 30, 22, 22, 64)    18496     \n",
      "_________________________________________________________________\n",
      "time_distributed_42 (TimeDis (None, 30, 22, 22, 64)    256       \n",
      "_________________________________________________________________\n",
      "time_distributed_43 (TimeDis (None, 30, 11, 11, 64)    0         \n",
      "_________________________________________________________________\n",
      "time_distributed_44 (TimeDis (None, 30, 11, 11, 128)   32896     \n",
      "_________________________________________________________________\n",
      "time_distributed_45 (TimeDis (None, 30, 11, 11, 128)   512       \n",
      "_________________________________________________________________\n",
      "time_distributed_46 (TimeDis (None, 30, 5, 5, 128)     0         \n",
      "_________________________________________________________________\n",
      "time_distributed_47 (TimeDis (None, 30, 5, 5, 256)     131328    \n",
      "_________________________________________________________________\n",
      "time_distributed_48 (TimeDis (None, 30, 5, 5, 256)     1024      \n",
      "_________________________________________________________________\n",
      "time_distributed_49 (TimeDis (None, 30, 2, 2, 256)     0         \n",
      "_________________________________________________________________\n",
      "time_distributed_50 (TimeDis (None, 30, 1024)          0         \n",
      "_________________________________________________________________\n",
      "dense_10 (Dense)             (None, 30, 128)           131200    \n",
      "_________________________________________________________________\n",
      "dropout_9 (Dropout)          (None, 30, 128)           0         \n",
      "_________________________________________________________________\n",
      "dense_11 (Dense)             (None, 30, 128)           16512     \n",
      "_________________________________________________________________\n",
      "dropout_10 (Dropout)         (None, 30, 128)           0         \n",
      "_________________________________________________________________\n",
      "gru_4 (GRU)                  (None, 128)               98688     \n",
      "_________________________________________________________________\n",
      "dropout_11 (Dropout)         (None, 128)               0         \n",
      "_________________________________________________________________\n",
      "dense_12 (Dense)             (None, 5)                 645       \n",
      "=================================================================\n",
      "Total params: 436,773\n",
      "Trainable params: 435,813\n",
      "Non-trainable params: 960\n",
      "_________________________________________________________________\n",
      "None\n"
     ]
    }
   ],
   "source": [
    "# Parameters initialization \n",
    "nb_rows = 90   # X dimension of the image\n",
    "nb_cols = 90   # Y dimesnion of the image\n",
    "nb_featuremap = [16,32,64,128,256]\n",
    "nb_dense = [128,64,5]\n",
    "nb_classes = 5\n",
    "\n",
    "# Input\n",
    "input_shape=(nb_frames,nb_rows,nb_cols,nb_channel)\n",
    "\n",
    "model = Sequential()\n",
    "\n",
    "model.add(TimeDistributed(Conv2D(nb_featuremap[0], (3, 3), strides=(2, 2),activation='relu', padding='same')\n",
    "                          , input_shape=input_shape))\n",
    "\n",
    "model.add(TimeDistributed(Conv2D(nb_featuremap[1], (3,3),padding='same', activation='relu')))\n",
    "model.add(TimeDistributed(BatchNormalization()))\n",
    "model.add(TimeDistributed(MaxPooling2D((2, 2), strides=(2, 2))))\n",
    "\n",
    "model.add(TimeDistributed(Conv2D(nb_featuremap[2], (3,3),padding='same', activation='relu')))\n",
    "model.add(TimeDistributed(BatchNormalization()))\n",
    "model.add(TimeDistributed(MaxPooling2D((2, 2), strides=(2, 2))))\n",
    "\n",
    "model.add(TimeDistributed(Conv2D(nb_featuremap[3], (2,2),padding='same', activation='relu')))\n",
    "model.add(TimeDistributed(BatchNormalization()))\n",
    "model.add(TimeDistributed(MaxPooling2D((2, 2), strides=(2, 2))))\n",
    "\n",
    "model.add(TimeDistributed(Conv2D(nb_featuremap[4], (2,2),padding='same', activation='relu')))\n",
    "model.add(TimeDistributed(BatchNormalization()))\n",
    "model.add(TimeDistributed(MaxPooling2D((2, 2), strides=(2, 2))))\n",
    "\n",
    "model.add(TimeDistributed(Flatten()))\n",
    "\n",
    "model.add(Dense(nb_dense[0], activation='relu'))\n",
    "model.add(Dropout(0.5))\n",
    "\n",
    "model.add(Dense(nb_dense[0], activation='relu'))\n",
    "model.add(Dropout(0.5))\n",
    "\n",
    "model.add(GRU(128, return_sequences=False))\n",
    "model.add(Dropout(0.25))\n",
    "\n",
    "model.add(Dense(nb_classes, activation='softmax')) # using Softmax as last layer\n",
    "\n",
    "#Optimizer\n",
    "optimiser = Adam(lr=0.0002) #write your optimizer\n",
    "model.compile(optimizer=optimiser, loss='categorical_crossentropy', metrics=['categorical_accuracy'])\n",
    "print (model.summary())"
   ]
  },
  {
   "cell_type": "markdown",
   "metadata": {},
   "source": [
    "#### 2. 3D convolution model"
   ]
  },
  {
   "cell_type": "code",
   "execution_count": 11,
   "metadata": {},
   "outputs": [
    {
     "name": "stdout",
     "output_type": "stream",
     "text": [
      "_________________________________________________________________\n",
      "Layer (type)                 Output Shape              Param #   \n",
      "=================================================================\n",
      "conv3d_1 (Conv3D)            (None, 30, 90, 90, 8)     656       \n",
      "_________________________________________________________________\n",
      "activation_1 (Activation)    (None, 30, 90, 90, 8)     0         \n",
      "_________________________________________________________________\n",
      "batch_normalization_5 (Batch (None, 30, 90, 90, 8)     32        \n",
      "_________________________________________________________________\n",
      "max_pooling3d_1 (MaxPooling3 (None, 15, 45, 45, 8)     0         \n",
      "_________________________________________________________________\n",
      "conv3d_2 (Conv3D)            (None, 15, 45, 45, 16)    3472      \n",
      "_________________________________________________________________\n",
      "activation_2 (Activation)    (None, 15, 45, 45, 16)    0         \n",
      "_________________________________________________________________\n",
      "batch_normalization_6 (Batch (None, 15, 45, 45, 16)    64        \n",
      "_________________________________________________________________\n",
      "max_pooling3d_2 (MaxPooling3 (None, 7, 22, 22, 16)     0         \n",
      "_________________________________________________________________\n",
      "conv3d_3 (Conv3D)            (None, 7, 22, 22, 32)     4640      \n",
      "_________________________________________________________________\n",
      "activation_3 (Activation)    (None, 7, 22, 22, 32)     0         \n",
      "_________________________________________________________________\n",
      "batch_normalization_7 (Batch (None, 7, 22, 22, 32)     128       \n",
      "_________________________________________________________________\n",
      "max_pooling3d_3 (MaxPooling3 (None, 3, 11, 11, 32)     0         \n",
      "_________________________________________________________________\n",
      "conv3d_4 (Conv3D)            (None, 3, 11, 11, 64)     18496     \n",
      "_________________________________________________________________\n",
      "activation_4 (Activation)    (None, 3, 11, 11, 64)     0         \n",
      "_________________________________________________________________\n",
      "batch_normalization_8 (Batch (None, 3, 11, 11, 64)     256       \n",
      "_________________________________________________________________\n",
      "max_pooling3d_4 (MaxPooling3 (None, 1, 5, 5, 64)       0         \n",
      "_________________________________________________________________\n",
      "flatten_2 (Flatten)          (None, 1600)              0         \n",
      "_________________________________________________________________\n",
      "dense_3 (Dense)              (None, 256)               409856    \n",
      "_________________________________________________________________\n",
      "batch_normalization_9 (Batch (None, 256)               1024      \n",
      "_________________________________________________________________\n",
      "dropout_3 (Dropout)          (None, 256)               0         \n",
      "_________________________________________________________________\n",
      "dense_4 (Dense)              (None, 128)               32896     \n",
      "_________________________________________________________________\n",
      "batch_normalization_10 (Batc (None, 128)               512       \n",
      "_________________________________________________________________\n",
      "dropout_4 (Dropout)          (None, 128)               0         \n",
      "_________________________________________________________________\n",
      "dense_5 (Dense)              (None, 5)                 645       \n",
      "=================================================================\n",
      "Total params: 472,677\n",
      "Trainable params: 471,669\n",
      "Non-trainable params: 1,008\n",
      "_________________________________________________________________\n",
      "None\n"
     ]
    }
   ],
   "source": [
    "# Parameters initialization\n",
    "nb_rows = 90   # X dimension of the image\n",
    "nb_cols = 90   # Y dimesnion of the image\n",
    "nb_featuremap = [8,16,32,64,128]\n",
    "nb_dense = [256, 128, 5]\n",
    "\n",
    "# Input\n",
    "input_shape=(nb_frames,nb_rows,nb_cols,nb_channel)\n",
    "# Define model\n",
    "model3D = Sequential()\n",
    "\n",
    "#layer 1\n",
    "model3D.add(Conv3D(nb_featuremap[0], \n",
    "                 kernel_size=(3,3,3), \n",
    "                 input_shape=input_shape,\n",
    "                 padding='same'))\n",
    "model3D.add(Activation('relu'))\n",
    "model3D.add(BatchNormalization())\n",
    "model3D.add(MaxPooling3D(pool_size=(2,2,2)))\n",
    "\n",
    "#layer 2\n",
    "model3D.add(Conv3D(nb_featuremap[1], \n",
    "                 kernel_size=(3,3,3), \n",
    "                 padding='same'))\n",
    "model3D.add(Activation('relu'))\n",
    "model3D.add(BatchNormalization())\n",
    "model3D.add(MaxPooling3D(pool_size=(2,2,2)))\n",
    "\n",
    "#layer 3\n",
    "model3D.add(Conv3D(nb_featuremap[2], \n",
    "                 kernel_size=(1,3,3), \n",
    "                 padding='same'))\n",
    "model3D.add(Activation('relu'))\n",
    "model3D.add(BatchNormalization())\n",
    "model3D.add(MaxPooling3D(pool_size=(2,2,2)))\n",
    "\n",
    "#layer 4\n",
    "model3D.add(Conv3D(nb_featuremap[3], \n",
    "                 kernel_size=(1,3,3), \n",
    "                 padding='same'))\n",
    "model3D.add(Activation('relu'))\n",
    "model3D.add(BatchNormalization())\n",
    "model3D.add(MaxPooling3D(pool_size=(2,2,2)))\n",
    "\n",
    "\n",
    "#Flatten Layers\n",
    "model3D.add(Flatten())\n",
    "\n",
    "model3D.add(Dense(nb_dense[0], activation='relu'))\n",
    "model3D.add(BatchNormalization())\n",
    "model3D.add(Dropout(0.5))\n",
    "\n",
    "model3D.add(Dense(nb_dense[1], activation='relu'))\n",
    "model3D.add(BatchNormalization())\n",
    "model3D.add(Dropout(0.25))\n",
    "\n",
    "#softmax layer\n",
    "model3D.add(Dense(nb_dense[2], activation='softmax'))\n",
    "\n",
    "#Optimizer\n",
    "optimiser =Adam(lr=0.0002) #write your optimizer\n",
    "model3D.compile(optimizer=optimiser, loss='categorical_crossentropy', metrics=['categorical_accuracy'])\n",
    "print (model3D.summary())"
   ]
  },
  {
   "cell_type": "code",
   "execution_count": 12,
   "metadata": {},
   "outputs": [],
   "source": [
    "#Steps to create model files in given path\n",
    "\n",
    "model_name = 'model_init' + '_' + str(curr_dt_time).replace(' ','').replace(':','_') + '/'\n",
    "    \n",
    "if not os.path.exists(model_name):\n",
    "    os.mkdir(model_name)\n",
    "        \n",
    "filepath = model_name + 'model-{epoch:05d}-{loss:.5f}-{categorical_accuracy:.5f}-{val_loss:.5f}-{val_categorical_accuracy:.5f}.h5'\n",
    "\n",
    "checkpoint = ModelCheckpoint(filepath, monitor='val_loss', verbose=1, save_best_only=False, save_weights_only=False, mode='auto',period=1)\n",
    "                             #, save_freq='epoch')\n",
    "\n",
    "LR = ReduceLROnPlateau(monitor='val_loss', factor=0.5, patience=2, cooldown=1, verbose=1)\n",
    "callbacks_list = [checkpoint, LR]"
   ]
  },
  {
   "cell_type": "markdown",
   "metadata": {},
   "source": [
    "The `steps_per_epoch` and `validation_steps` are used by `fit_generator` to decide the number of next() calls it need to make."
   ]
  },
  {
   "cell_type": "code",
   "execution_count": 13,
   "metadata": {},
   "outputs": [],
   "source": [
    "if (num_train_sequences%batch_size) == 0:\n",
    "    steps_per_epoch = int(num_train_sequences/batch_size)\n",
    "else:\n",
    "    steps_per_epoch = (num_train_sequences//batch_size) + 1\n",
    "\n",
    "if (num_val_sequences%batch_size) == 0:\n",
    "    validation_steps = int(num_val_sequences/batch_size)\n",
    "else:\n",
    "    validation_steps = (num_val_sequences//batch_size) + 1"
   ]
  },
  {
   "cell_type": "markdown",
   "metadata": {},
   "source": [
    "Let us create the `train_generator` and the `val_generator` which will be used in `.fit_generator`."
   ]
  },
  {
   "cell_type": "markdown",
   "metadata": {},
   "source": [
    "Let us now fit the model. This will start training the model and with the help of the checkpoints, you'll be able to save the model at the end of each epoch."
   ]
  },
  {
   "cell_type": "code",
   "execution_count": 23,
   "metadata": {},
   "outputs": [
    {
     "name": "stdout",
     "output_type": "stream",
     "text": [
      "Source path =  Project_data/val ; batch size = Source path =  Project_data/train ; batch size = 32\n",
      "32Epoch 1/20\n",
      "\n"
     ]
    },
    {
     "name": "stderr",
     "output_type": "stream",
     "text": [
      "/mnt/disks/user/anaconda3/lib/python3.6/site-packages/ipykernel_launcher.py:17: DeprecationWarning: `imresize` is deprecated!\n",
      "`imresize` is deprecated in SciPy 1.0.0, and will be removed in 1.2.0.\n",
      "Use ``skimage.transform.resize`` instead.\n",
      "/mnt/disks/user/anaconda3/lib/python3.6/site-packages/ipykernel_launcher.py:35: DeprecationWarning: `imresize` is deprecated!\n",
      "`imresize` is deprecated in SciPy 1.0.0, and will be removed in 1.2.0.\n",
      "Use ``skimage.transform.resize`` instead.\n"
     ]
    },
    {
     "name": "stdout",
     "output_type": "stream",
     "text": [
      "21/21 [==============================] - 136s 6s/step - loss: 1.8113 - categorical_accuracy: 0.2246 - val_loss: 1.4070 - val_categorical_accuracy: 0.4300\n",
      "\n",
      "Epoch 00001: saving model to model_init_2020-12-2809_02_04.402490/model-00001-1.81398-0.22247-1.40702-0.43000.h5\n",
      "Epoch 2/20\n",
      "21/21 [==============================] - 91s 4s/step - loss: 1.5818 - categorical_accuracy: 0.3313 - val_loss: 1.3084 - val_categorical_accuracy: 0.4375\n",
      "\n",
      "Epoch 00002: saving model to model_init_2020-12-2809_02_04.402490/model-00002-1.58177-0.33126-1.30844-0.43750.h5\n",
      "Epoch 3/20\n",
      "21/21 [==============================] - 83s 4s/step - loss: 1.3817 - categorical_accuracy: 0.4136 - val_loss: 1.1358 - val_categorical_accuracy: 0.5000\n",
      "\n",
      "Epoch 00003: saving model to model_init_2020-12-2809_02_04.402490/model-00003-1.38736-0.40867-1.13585-0.50000.h5\n",
      "Epoch 4/20\n",
      "21/21 [==============================] - 79s 4s/step - loss: 1.3344 - categorical_accuracy: 0.4336 - val_loss: 1.6084 - val_categorical_accuracy: 0.3125\n",
      "\n",
      "Epoch 00004: saving model to model_init_2020-12-2809_02_04.402490/model-00004-1.33443-0.43358-1.60839-0.31250.h5\n",
      "Epoch 5/20\n",
      "21/21 [==============================] - 72s 3s/step - loss: 1.0996 - categorical_accuracy: 0.5672 - val_loss: 1.1802 - val_categorical_accuracy: 0.6250\n",
      "\n",
      "Epoch 00005: saving model to model_init_2020-12-2809_02_04.402490/model-00005-1.09957-0.56723-1.18019-0.62500.h5\n",
      "\n",
      "Epoch 00005: ReduceLROnPlateau reducing learning rate to 9.999999747378752e-05.\n",
      "Epoch 6/20\n",
      "21/21 [==============================] - 68s 3s/step - loss: 1.1279 - categorical_accuracy: 0.5420 - val_loss: 1.0895 - val_categorical_accuracy: 0.4375\n",
      "\n",
      "Epoch 00006: saving model to model_init_2020-12-2809_02_04.402490/model-00006-1.12789-0.54202-1.08952-0.43750.h5\n",
      "Epoch 7/20\n",
      "21/21 [==============================] - 70s 3s/step - loss: 1.0148 - categorical_accuracy: 0.6050 - val_loss: 0.8044 - val_categorical_accuracy: 0.7500\n",
      "\n",
      "Epoch 00007: saving model to model_init_2020-12-2809_02_04.402490/model-00007-1.01481-0.60504-0.80438-0.75000.h5\n",
      "Epoch 8/20\n",
      "21/21 [==============================] - 71s 3s/step - loss: 0.9066 - categorical_accuracy: 0.6555 - val_loss: 0.8988 - val_categorical_accuracy: 0.6875\n",
      "\n",
      "Epoch 00008: saving model to model_init_2020-12-2809_02_04.402490/model-00008-0.90663-0.65546-0.89875-0.68750.h5\n",
      "Epoch 9/20\n",
      "21/21 [==============================] - 71s 3s/step - loss: 0.8588 - categorical_accuracy: 0.6835 - val_loss: 0.9861 - val_categorical_accuracy: 0.5625\n",
      "\n",
      "Epoch 00009: saving model to model_init_2020-12-2809_02_04.402490/model-00009-0.85881-0.68347-0.98609-0.56250.h5\n",
      "\n",
      "Epoch 00009: ReduceLROnPlateau reducing learning rate to 4.999999873689376e-05.\n",
      "Epoch 10/20\n",
      "21/21 [==============================] - 67s 3s/step - loss: 0.8198 - categorical_accuracy: 0.7031 - val_loss: 0.7887 - val_categorical_accuracy: 0.6875\n",
      "\n",
      "Epoch 00010: saving model to model_init_2020-12-2809_02_04.402490/model-00010-0.81985-0.70308-0.78873-0.68750.h5\n",
      "Epoch 11/20\n",
      "21/21 [==============================] - 67s 3s/step - loss: 0.7692 - categorical_accuracy: 0.7213 - val_loss: 0.9664 - val_categorical_accuracy: 0.7500\n",
      "\n",
      "Epoch 00011: saving model to model_init_2020-12-2809_02_04.402490/model-00011-0.76918-0.72129-0.96637-0.75000.h5\n",
      "Epoch 12/20\n",
      "21/21 [==============================] - 68s 3s/step - loss: 0.7453 - categorical_accuracy: 0.7381 - val_loss: 0.4902 - val_categorical_accuracy: 0.8125\n",
      "\n",
      "Epoch 00012: saving model to model_init_2020-12-2809_02_04.402490/model-00012-0.74529-0.73810-0.49021-0.81250.h5\n",
      "Epoch 13/20\n",
      "21/21 [==============================] - 70s 3s/step - loss: 0.7403 - categorical_accuracy: 0.7143 - val_loss: 1.5633 - val_categorical_accuracy: 0.4375\n",
      "\n",
      "Epoch 00013: saving model to model_init_2020-12-2809_02_04.402490/model-00013-0.74029-0.71429-1.56326-0.43750.h5\n",
      "Epoch 14/20\n",
      "21/21 [==============================] - 69s 3s/step - loss: 0.6092 - categorical_accuracy: 0.7983 - val_loss: 1.0657 - val_categorical_accuracy: 0.4375\n",
      "\n",
      "Epoch 00014: saving model to model_init_2020-12-2809_02_04.402490/model-00014-0.60919-0.79832-1.06569-0.43750.h5\n",
      "\n",
      "Epoch 00014: ReduceLROnPlateau reducing learning rate to 2.499999936844688e-05.\n",
      "Epoch 15/20\n",
      "21/21 [==============================] - 64s 3s/step - loss: 0.6767 - categorical_accuracy: 0.7577 - val_loss: 1.0018 - val_categorical_accuracy: 0.6250\n",
      "\n",
      "Epoch 00015: saving model to model_init_2020-12-2809_02_04.402490/model-00015-0.67674-0.75770-1.00180-0.62500.h5\n",
      "Epoch 16/20\n",
      "21/21 [==============================] - 70s 3s/step - loss: 0.6245 - categorical_accuracy: 0.7969 - val_loss: 0.6682 - val_categorical_accuracy: 0.8125\n",
      "\n",
      "Epoch 00016: saving model to model_init_2020-12-2809_02_04.402490/model-00016-0.62453-0.79692-0.66815-0.81250.h5\n",
      "\n",
      "Epoch 00016: ReduceLROnPlateau reducing learning rate to 1.249999968422344e-05.\n",
      "Epoch 17/20\n",
      "21/21 [==============================] - 64s 3s/step - loss: 0.6027 - categorical_accuracy: 0.8137 - val_loss: 0.7529 - val_categorical_accuracy: 0.6875\n",
      "\n",
      "Epoch 00017: saving model to model_init_2020-12-2809_02_04.402490/model-00017-0.60272-0.81373-0.75294-0.68750.h5\n",
      "Epoch 18/20\n",
      "21/21 [==============================] - 70s 3s/step - loss: 0.5781 - categorical_accuracy: 0.8319 - val_loss: 1.1895 - val_categorical_accuracy: 0.5625\n",
      "\n",
      "Epoch 00018: saving model to model_init_2020-12-2809_02_04.402490/model-00018-0.57809-0.83193-1.18946-0.56250.h5\n",
      "\n",
      "Epoch 00018: ReduceLROnPlateau reducing learning rate to 6.24999984211172e-06.\n",
      "Epoch 19/20\n",
      "21/21 [==============================] - 72s 3s/step - loss: 0.5837 - categorical_accuracy: 0.8235 - val_loss: 1.0289 - val_categorical_accuracy: 0.7500\n",
      "\n",
      "Epoch 00019: saving model to model_init_2020-12-2809_02_04.402490/model-00019-0.58372-0.82353-1.02894-0.75000.h5\n",
      "Epoch 20/20\n",
      "21/21 [==============================] - 72s 3s/step - loss: 0.5985 - categorical_accuracy: 0.7941 - val_loss: 0.5727 - val_categorical_accuracy: 0.7500\n",
      "\n",
      "Epoch 00020: saving model to model_init_2020-12-2809_02_04.402490/model-00020-0.59845-0.79412-0.57266-0.75000.h5\n",
      "\n",
      "Epoch 00020: ReduceLROnPlateau reducing learning rate to 3.12499992105586e-06.\n"
     ]
    }
   ],
   "source": [
    "# Parameters initialization\n",
    "nb_rows = 90   # X dimension of the image\n",
    "nb_cols = 90   # Y dimesnion of the image\n",
    "train_generator_2D = generator(train_path, train_doc, batch_size,augment=True)\n",
    "val_generator_2D = generator(val_path, val_doc, batch_size)\n",
    "num_epochs=20\n",
    "\n",
    "model2D=model.fit_generator(train_generator_2D, steps_per_epoch=steps_per_epoch, epochs=num_epochs, verbose=1, \n",
    "                    callbacks=callbacks_list, validation_data=val_generator_2D, \n",
    "                    validation_steps=validation_steps, class_weight=None, workers=1, initial_epoch=0)"
   ]
  },
  {
   "cell_type": "code",
   "execution_count": 24,
   "metadata": {},
   "outputs": [
    {
     "data": {
      "image/png": "[encoded data removed]",
      "text/plain": [
       "<Figure size 1080x288 with 2 Axes>"
      ]
     },
     "metadata": {},
     "output_type": "display_data"
    }
   ],
   "source": [
    "#Visualize loss and accuracy of the model\n",
    "plot(model2D)"
   ]
  },
  {
   "cell_type": "markdown",
   "metadata": {},
   "source": [
    "Validation loss was consistently decreasing for each epoch without any huge variation in loss value. Accuracy attained is also good without much overfitting. Model could learn consistently in each epoch."
   ]
  },
  {
   "cell_type": "code",
   "execution_count": 16,
   "metadata": {},
   "outputs": [
    {
     "name": "stdout",
     "output_type": "stream",
     "text": [
      "Source path =  Project_data/val ; batch size = Source path =  Project_data/train ; batch size = 32\n",
      "32\n",
      "Epoch 1/20\n"
     ]
    },
    {
     "name": "stderr",
     "output_type": "stream",
     "text": [
      "/mnt/disks/user/anaconda3/lib/python3.6/site-packages/ipykernel_launcher.py:17: DeprecationWarning: `imresize` is deprecated!\n",
      "`imresize` is deprecated in SciPy 1.0.0, and will be removed in 1.2.0.\n",
      "Use ``skimage.transform.resize`` instead.\n",
      "/mnt/disks/user/anaconda3/lib/python3.6/site-packages/ipykernel_launcher.py:35: DeprecationWarning: `imresize` is deprecated!\n",
      "`imresize` is deprecated in SciPy 1.0.0, and will be removed in 1.2.0.\n",
      "Use ``skimage.transform.resize`` instead.\n"
     ]
    },
    {
     "name": "stdout",
     "output_type": "stream",
     "text": [
      "21/21 [==============================] - 141s 7s/step - loss: 2.1605 - categorical_accuracy: 0.2682 - val_loss: 1.3184 - val_categorical_accuracy: 0.4800\n",
      "\n",
      "Epoch 00001: saving model to model_init_2020-12-2809_02_04.402490/model-00001-2.16882-0.26546-1.31836-0.48000.h5\n",
      "Epoch 2/20\n",
      "21/21 [==============================] - 96s 5s/step - loss: 1.4800 - categorical_accuracy: 0.4369 - val_loss: 0.7724 - val_categorical_accuracy: 0.6875\n",
      "\n",
      "Epoch 00002: saving model to model_init_2020-12-2809_02_04.402490/model-00002-1.47996-0.43685-0.77235-0.68750.h5\n",
      "Epoch 3/20\n",
      "21/21 [==============================] - 84s 4s/step - loss: 1.2405 - categorical_accuracy: 0.5162 - val_loss: 1.2421 - val_categorical_accuracy: 0.6250\n",
      "\n",
      "Epoch 00003: saving model to model_init_2020-12-2809_02_04.402490/model-00003-1.24421-0.51405-1.24215-0.62500.h5\n",
      "Epoch 4/20\n",
      "21/21 [==============================] - 77s 4s/step - loss: 1.1305 - categorical_accuracy: 0.5677 - val_loss: 0.9702 - val_categorical_accuracy: 0.7500\n",
      "\n",
      "Epoch 00004: saving model to model_init_2020-12-2809_02_04.402490/model-00004-1.13051-0.56767-0.97021-0.75000.h5\n",
      "\n",
      "Epoch 00004: ReduceLROnPlateau reducing learning rate to 9.999999747378752e-05.\n",
      "Epoch 5/20\n",
      "21/21 [==============================] - 72s 3s/step - loss: 0.9395 - categorical_accuracy: 0.6261 - val_loss: 1.1055 - val_categorical_accuracy: 0.5625\n",
      "\n",
      "Epoch 00005: saving model to model_init_2020-12-2809_02_04.402490/model-00005-0.93951-0.62605-1.10548-0.56250.h5\n",
      "Epoch 6/20\n",
      "21/21 [==============================] - 70s 3s/step - loss: 0.9354 - categorical_accuracy: 0.6457 - val_loss: 1.1651 - val_categorical_accuracy: 0.4375\n",
      "\n",
      "Epoch 00006: saving model to model_init_2020-12-2809_02_04.402490/model-00006-0.93542-0.64566-1.16507-0.43750.h5\n",
      "\n",
      "Epoch 00006: ReduceLROnPlateau reducing learning rate to 4.999999873689376e-05.\n",
      "Epoch 7/20\n",
      "21/21 [==============================] - 75s 4s/step - loss: 0.8479 - categorical_accuracy: 0.6667 - val_loss: 0.7225 - val_categorical_accuracy: 0.8750\n",
      "\n",
      "Epoch 00007: saving model to model_init_2020-12-2809_02_04.402490/model-00007-0.84787-0.66667-0.72252-0.87500.h5\n",
      "Epoch 8/20\n",
      "21/21 [==============================] - 71s 3s/step - loss: 0.7898 - categorical_accuracy: 0.6863 - val_loss: 1.0153 - val_categorical_accuracy: 0.6875\n",
      "\n",
      "Epoch 00008: saving model to model_init_2020-12-2809_02_04.402490/model-00008-0.78981-0.68627-1.01532-0.68750.h5\n",
      "Epoch 9/20\n",
      "21/21 [==============================] - 73s 3s/step - loss: 0.8340 - categorical_accuracy: 0.6737 - val_loss: 0.7828 - val_categorical_accuracy: 0.6875\n",
      "\n",
      "Epoch 00009: saving model to model_init_2020-12-2809_02_04.402490/model-00009-0.83402-0.67367-0.78283-0.68750.h5\n",
      "\n",
      "Epoch 00009: ReduceLROnPlateau reducing learning rate to 2.499999936844688e-05.\n",
      "Epoch 10/20\n",
      "21/21 [==============================] - 70s 3s/step - loss: 0.7372 - categorical_accuracy: 0.7185 - val_loss: 0.8822 - val_categorical_accuracy: 0.5625\n",
      "\n",
      "Epoch 00010: saving model to model_init_2020-12-2809_02_04.402490/model-00010-0.73718-0.71849-0.88224-0.56250.h5\n",
      "Epoch 11/20\n",
      "21/21 [==============================] - 70s 3s/step - loss: 0.7506 - categorical_accuracy: 0.7381 - val_loss: 0.9760 - val_categorical_accuracy: 0.6875\n",
      "\n",
      "Epoch 00011: saving model to model_init_2020-12-2809_02_04.402490/model-00011-0.75058-0.73810-0.97595-0.68750.h5\n",
      "\n",
      "Epoch 00011: ReduceLROnPlateau reducing learning rate to 1.249999968422344e-05.\n",
      "Epoch 12/20\n",
      "21/21 [==============================] - 71s 3s/step - loss: 0.7461 - categorical_accuracy: 0.7185 - val_loss: 0.8654 - val_categorical_accuracy: 0.7500\n",
      "\n",
      "Epoch 00012: saving model to model_init_2020-12-2809_02_04.402490/model-00012-0.74606-0.71849-0.86543-0.75000.h5\n",
      "Epoch 13/20\n",
      "21/21 [==============================] - 69s 3s/step - loss: 0.7317 - categorical_accuracy: 0.7213 - val_loss: 0.8404 - val_categorical_accuracy: 0.6875\n",
      "\n",
      "Epoch 00013: saving model to model_init_2020-12-2809_02_04.402490/model-00013-0.73168-0.72129-0.84043-0.68750.h5\n",
      "\n",
      "Epoch 00013: ReduceLROnPlateau reducing learning rate to 6.24999984211172e-06.\n",
      "Epoch 14/20\n",
      "21/21 [==============================] - 71s 3s/step - loss: 0.7336 - categorical_accuracy: 0.6989 - val_loss: 0.9187 - val_categorical_accuracy: 0.8125\n",
      "\n",
      "Epoch 00014: saving model to model_init_2020-12-2809_02_04.402490/model-00014-0.73357-0.69888-0.91866-0.81250.h5\n",
      "Epoch 15/20\n",
      "21/21 [==============================] - 69s 3s/step - loss: 0.6862 - categorical_accuracy: 0.7297 - val_loss: 0.8911 - val_categorical_accuracy: 0.7500\n",
      "\n",
      "Epoch 00015: saving model to model_init_2020-12-2809_02_04.402490/model-00015-0.68616-0.72969-0.89110-0.75000.h5\n",
      "\n",
      "Epoch 00015: ReduceLROnPlateau reducing learning rate to 3.12499992105586e-06.\n",
      "Epoch 16/20\n",
      "21/21 [==============================] - 66s 3s/step - loss: 0.6868 - categorical_accuracy: 0.7549 - val_loss: 0.7381 - val_categorical_accuracy: 0.6875\n",
      "\n",
      "Epoch 00016: saving model to model_init_2020-12-2809_02_04.402490/model-00016-0.68680-0.75490-0.73807-0.68750.h5\n",
      "Epoch 17/20\n",
      "21/21 [==============================] - 74s 4s/step - loss: 0.7832 - categorical_accuracy: 0.7059 - val_loss: 0.9314 - val_categorical_accuracy: 0.6875\n",
      "\n",
      "Epoch 00017: saving model to model_init_2020-12-2809_02_04.402490/model-00017-0.78316-0.70588-0.93136-0.68750.h5\n",
      "\n",
      "Epoch 00017: ReduceLROnPlateau reducing learning rate to 1.56249996052793e-06.\n",
      "Epoch 18/20\n",
      "21/21 [==============================] - 70s 3s/step - loss: 0.6663 - categorical_accuracy: 0.7507 - val_loss: 1.3075 - val_categorical_accuracy: 0.5625\n",
      "\n",
      "Epoch 00018: saving model to model_init_2020-12-2809_02_04.402490/model-00018-0.66628-0.75070-1.30747-0.56250.h5\n",
      "Epoch 19/20\n",
      "21/21 [==============================] - 70s 3s/step - loss: 0.6926 - categorical_accuracy: 0.7269 - val_loss: 0.9286 - val_categorical_accuracy: 0.5625\n",
      "\n",
      "Epoch 00019: saving model to model_init_2020-12-2809_02_04.402490/model-00019-0.69260-0.72689-0.92864-0.56250.h5\n",
      "\n",
      "Epoch 00019: ReduceLROnPlateau reducing learning rate to 7.81249980263965e-07.\n",
      "Epoch 20/20\n",
      "21/21 [==============================] - 72s 3s/step - loss: 0.6792 - categorical_accuracy: 0.7661 - val_loss: 0.8713 - val_categorical_accuracy: 0.6875\n",
      "\n",
      "Epoch 00020: saving model to model_init_2020-12-2809_02_04.402490/model-00020-0.67918-0.76611-0.87133-0.68750.h5\n"
     ]
    }
   ],
   "source": [
    "# Parameters initialization\n",
    "nb_rows = 90   # X dimension of the image\n",
    "nb_cols = 90   # Y dimesnion of the image\n",
    "train_generator_3D = generator(train_path, train_doc, batch_size,augment=True)\n",
    "\n",
    "val_generator_3D = generator(val_path, val_doc, batch_size)\n",
    "num_epochs=20\n",
    "\n",
    "model3D_conv=model3D.fit_generator(train_generator_3D, steps_per_epoch=steps_per_epoch, epochs=num_epochs, verbose=1, \n",
    "                    callbacks=callbacks_list, validation_data=val_generator_3D, \n",
    "                    validation_steps=validation_steps, class_weight=None, workers=2, initial_epoch=0)"
   ]
  },
  {
   "cell_type": "code",
   "execution_count": 17,
   "metadata": {},
   "outputs": [
    {
     "data": {
      "image/png": "[encoded data removed]",
      "text/plain": [
       "<Figure size 1080x288 with 2 Axes>"
      ]
     },
     "metadata": {},
     "output_type": "display_data"
    }
   ],
   "source": [
    "plot(model3D_conv)"
   ]
  },
  {
   "cell_type": "markdown",
   "metadata": {},
   "source": [
    "Validation loss was oscillating but gradually decreasing in each Epoch.Accuracy attained is also good without any indication of overfitting. Model could learn consistently in each epoch."
   ]
  },
  {
   "cell_type": "markdown",
   "metadata": {},
   "source": [
    "#### Summary"
   ]
  },
  {
   "cell_type": "markdown",
   "metadata": {},
   "source": [
    "Model using **Conv2d+RNN(GRU)**, gave us the best result of train accuracy of **83%** and validation accuracy of **75%** using all the 30 frames and 90*90 image dimension. Cropping did not affect much on the final accurac.Data augmentation helped in attaining a stable model. While we did try various models with different hyperparameters, there was trade off in either Validation accuracy or time and resource consumption. \n",
    "\n",
    "Comparatively Conv2d with RNN GRU performed better than Conv3D. The highest validation accuracy without overfitting achieved using Conv3d model was **68%** with train accuracy of **76%**.Hence, GRU is a better choice than Conv3D since it has lesser number of gates and this architecture specifically designed for sequence prediction problems."
   ]
  },
  {
   "cell_type": "code",
   "execution_count": null,
   "metadata": {},
   "outputs": [],
   "source": []
  }
 ],
 "metadata": {
  "kernelspec": {
   "display_name": "Python 3",
   "language": "python",
   "name": "python3"
  },
  "language_info": {
   "codemirror_mode": {
    "name": "ipython",
    "version": 3
   },
   "file_extension": ".py",
   "mimetype": "text/x-python",
   "name": "python",
   "nbconvert_exporter": "python",
   "pygments_lexer": "ipython3",
   "version": "3.6.8"
  }
 },
 "nbformat": 4,
 "nbformat_minor": 2
}
